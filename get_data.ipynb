{
 "cells": [
  {
   "cell_type": "markdown",
   "id": "greatest-eligibility",
   "metadata": {},
   "source": [
    "# Getting data"
   ]
  },
  {
   "cell_type": "markdown",
   "id": "alternative-walter",
   "metadata": {},
   "source": [
    "We will get data about yellow taxi trips in New York.\n",
    "\n",
    "Datasets can be downloaded from:\n",
    "- yellow taxi 2018: [yellow taxi 2018](https://data.cityofnewyork.us/Transportation/2018-Yellow-Taxi-Trip-Data/t29m-gskq)\n",
    "- yellow taxi 2019: [yellow taxi 2019](https://data.cityofnewyork.us/Transportation/2019-Yellow-Taxi-Trip-Data/2upf-qytp)\n",
    "\n",
    "As datasets are large we will get them in chunks: 1.000.000 rows each. We will use [``sodapy``](https://pypi.org/project/sodapy/) package."
   ]
  },
  {
   "cell_type": "code",
   "execution_count": 1,
   "id": "several-trailer",
   "metadata": {},
   "outputs": [],
   "source": [
    "import pandas as pd\n",
    "from sodapy import Socrata\n",
    "import time\n",
    "import os"
   ]
  },
  {
   "cell_type": "markdown",
   "id": "respected-measurement",
   "metadata": {},
   "source": [
    "### Setting variables"
   ]
  },
  {
   "cell_type": "markdown",
   "id": "basic-reality",
   "metadata": {},
   "source": [
    "Instructions about getting data can be found [here](https://dev.socrata.com/foundry/data.cityofnewyork.us/t29m-gskq).\n",
    "\n",
    "First, one should create a TOKEN (described in the page above)."
   ]
  },
  {
   "cell_type": "code",
   "execution_count": 2,
   "id": "appropriate-omaha",
   "metadata": {},
   "outputs": [],
   "source": [
    "TOKEN = '<YOUR TOKEN>'\n",
    "DOMAIN = 'data.cityofnewyork.us'\n",
    "TIMEOUT = 3600*3 # query timeout in seconds"
   ]
  },
  {
   "cell_type": "code",
   "execution_count": 4,
   "id": "saved-kuwait",
   "metadata": {},
   "outputs": [],
   "source": [
    "# We have to get two datasets. \n",
    "# DATASET is a name of dataset and custom_name is how dataset will be named in temporary directory.\n",
    "\n",
    "# DATASET = 't29m-gskq'; custom_name = 'yellow_taxi_2018'\n",
    "DATASET = '2upf-qytp'; custom_name = 'yellow_taxi_2019'"
   ]
  },
  {
   "cell_type": "code",
   "execution_count": 5,
   "id": "handmade-blink",
   "metadata": {},
   "outputs": [],
   "source": [
    "TMP_PATH = 'data_tmp' # temporary path for data - for this directory bunches of data will be downloaded.\n",
    "PATH = 'data' # final path for data"
   ]
  },
  {
   "cell_type": "markdown",
   "id": "australian-camcorder",
   "metadata": {},
   "source": [
    "### Creating ``Socrata`` client"
   ]
  },
  {
   "cell_type": "markdown",
   "id": "annoying-concept",
   "metadata": {},
   "source": [
    "First, we have to create `socrata` client."
   ]
  },
  {
   "cell_type": "code",
   "execution_count": 6,
   "id": "selective-twelve",
   "metadata": {},
   "outputs": [],
   "source": [
    "client = Socrata(DOMAIN, TOKEN, timeout=TIMEOUT)"
   ]
  },
  {
   "cell_type": "markdown",
   "id": "cognitive-adventure",
   "metadata": {},
   "source": [
    "### Dataset size"
   ]
  },
  {
   "cell_type": "markdown",
   "id": "representative-parade",
   "metadata": {},
   "source": [
    "We can check dataset size (number of rows)."
   ]
  },
  {
   "cell_type": "code",
   "execution_count": 19,
   "id": "apparent-virus",
   "metadata": {},
   "outputs": [],
   "source": [
    "query = \"\"\"\n",
    "select count(*)\n",
    "\"\"\"\n",
    "\n",
    "row_number = client.get(DATASET, query = query)"
   ]
  },
  {
   "cell_type": "code",
   "execution_count": 20,
   "id": "flying-bracelet",
   "metadata": {},
   "outputs": [
    {
     "data": {
      "text/plain": [
       "84399019"
      ]
     },
     "execution_count": 20,
     "metadata": {},
     "output_type": "execute_result"
    }
   ],
   "source": [
    "row_number = int(row_number[0]['count'])\n",
    "row_number"
   ]
  },
  {
   "cell_type": "markdown",
   "id": "together-closing",
   "metadata": {},
   "source": [
    "### Getting a data"
   ]
  },
  {
   "cell_type": "markdown",
   "id": "after-beach",
   "metadata": {},
   "source": [
    "First let's create some auxiliary functions."
   ]
  },
  {
   "cell_type": "code",
   "execution_count": 21,
   "id": "different-gross",
   "metadata": {},
   "outputs": [],
   "source": [
    "def time_duration(t0, t1):\n",
    "    \"\"\" Function for measuring time ellapsed between t0 and t1 \"\"\"\n",
    "    return round((t1-t0)/60, 2)\n",
    "\n",
    "\n",
    "\n",
    "def get_data(client, dataset, offset, limit, order='tpep_pickup_datetime'):\n",
    "    \"\"\" Function for getting data \"\"\"\n",
    "    return client.get(dataset, offset=offset, limit=limit, order='tpep_pickup_datetime')"
   ]
  },
  {
   "cell_type": "markdown",
   "id": "bulgarian-business",
   "metadata": {},
   "source": [
    "Now we will get data in chunks and save in temporary directory."
   ]
  },
  {
   "cell_type": "code",
   "execution_count": 22,
   "id": "impaired-tuning",
   "metadata": {},
   "outputs": [],
   "source": [
    "# Initial offset and limit\n",
    "offset=0\n",
    "limit=int(1e6)"
   ]
  },
  {
   "cell_type": "code",
   "execution_count": 25,
   "id": "humanitarian-typing",
   "metadata": {
    "scrolled": true
   },
   "outputs": [
    {
     "name": "stdout",
     "output_type": "stream",
     "text": [
      "offset: 0 in 17.42 min.\n",
      "Total time ellapsed: 17.42 min.\n",
      "Exception! \n",
      "Expecting value: line 836315 column 2 (char 336576582)\n",
      "offset: 2000000 in 11.9 min.\n",
      "Total time ellapsed: 40.6 min.\n",
      "offset: 3000000 in 10.12 min.\n",
      "Total time ellapsed: 50.72 min.\n",
      "offset: 4000000 in 8.32 min.\n",
      "Total time ellapsed: 59.04 min.\n",
      "offset: 5000000 in 7.05 min.\n",
      "Total time ellapsed: 66.09 min.\n",
      "offset: 6000000 in 6.0 min.\n",
      "Total time ellapsed: 72.09 min.\n",
      "offset: 7000000 in 5.87 min.\n",
      "Total time ellapsed: 77.96 min.\n",
      "offset: 8000000 in 5.06 min.\n",
      "Total time ellapsed: 83.03 min.\n",
      "offset: 9000000 in 5.2 min.\n",
      "Total time ellapsed: 88.23 min.\n",
      "offset: 10000000 in 3.44 min.\n",
      "Total time ellapsed: 91.67 min.\n",
      "offset: 11000000 in 3.21 min.\n",
      "Total time ellapsed: 94.88 min.\n",
      "offset: 12000000 in 2.91 min.\n",
      "Total time ellapsed: 97.79 min.\n",
      "offset: 13000000 in 2.88 min.\n",
      "Total time ellapsed: 100.68 min.\n",
      "offset: 14000000 in 2.75 min.\n",
      "Total time ellapsed: 103.43 min.\n",
      "offset: 15000000 in 2.15 min.\n",
      "Total time ellapsed: 105.58 min.\n",
      "offset: 16000000 in 2.06 min.\n",
      "Total time ellapsed: 107.64 min.\n",
      "offset: 17000000 in 2.25 min.\n",
      "Total time ellapsed: 109.89 min.\n",
      "offset: 18000000 in 1.95 min.\n",
      "Total time ellapsed: 111.84 min.\n",
      "offset: 19000000 in 2.17 min.\n",
      "Total time ellapsed: 114.01 min.\n",
      "offset: 20000000 in 1.96 min.\n",
      "Total time ellapsed: 115.97 min.\n",
      "offset: 21000000 in 1.87 min.\n",
      "Total time ellapsed: 117.85 min.\n",
      "offset: 22000000 in 1.5 min.\n",
      "Total time ellapsed: 119.34 min.\n",
      "offset: 23000000 in 1.63 min.\n",
      "Total time ellapsed: 120.98 min.\n",
      "offset: 24000000 in 1.34 min.\n",
      "Total time ellapsed: 122.32 min.\n",
      "offset: 25000000 in 1.51 min.\n",
      "Total time ellapsed: 123.83 min.\n",
      "offset: 26000000 in 1.45 min.\n",
      "Total time ellapsed: 125.28 min.\n",
      "offset: 27000000 in 1.57 min.\n",
      "Total time ellapsed: 126.85 min.\n",
      "offset: 28000000 in 2.37 min.\n",
      "Total time ellapsed: 129.22 min.\n",
      "offset: 29000000 in 2.28 min.\n",
      "Total time ellapsed: 131.5 min.\n",
      "offset: 30000000 in 1.95 min.\n",
      "Total time ellapsed: 133.45 min.\n",
      "offset: 31000000 in 2.02 min.\n",
      "Total time ellapsed: 135.46 min.\n",
      "offset: 32000000 in 2.56 min.\n",
      "Total time ellapsed: 138.02 min.\n",
      "offset: 33000000 in 2.04 min.\n",
      "Total time ellapsed: 140.06 min.\n",
      "offset: 34000000 in 2.23 min.\n",
      "Total time ellapsed: 142.29 min.\n",
      "offset: 35000000 in 2.08 min.\n",
      "Total time ellapsed: 144.38 min.\n",
      "offset: 36000000 in 2.11 min.\n",
      "Total time ellapsed: 146.49 min.\n",
      "offset: 37000000 in 2.74 min.\n",
      "Total time ellapsed: 149.23 min.\n",
      "offset: 38000000 in 2.24 min.\n",
      "Total time ellapsed: 151.48 min.\n",
      "offset: 39000000 in 2.22 min.\n",
      "Total time ellapsed: 153.7 min.\n",
      "offset: 40000000 in 1.93 min.\n",
      "Total time ellapsed: 155.63 min.\n",
      "offset: 41000000 in 1.84 min.\n",
      "Total time ellapsed: 157.46 min.\n",
      "offset: 42000000 in 1.61 min.\n",
      "Total time ellapsed: 159.07 min.\n",
      "offset: 43000000 in 1.7 min.\n",
      "Total time ellapsed: 160.77 min.\n",
      "offset: 44000000 in 1.49 min.\n",
      "Total time ellapsed: 162.26 min.\n",
      "offset: 45000000 in 1.92 min.\n",
      "Total time ellapsed: 164.18 min.\n",
      "offset: 46000000 in 1.58 min.\n",
      "Total time ellapsed: 165.76 min.\n",
      "offset: 47000000 in 1.64 min.\n",
      "Total time ellapsed: 167.4 min.\n",
      "offset: 48000000 in 1.55 min.\n",
      "Total time ellapsed: 168.95 min.\n",
      "offset: 49000000 in 1.48 min.\n",
      "Total time ellapsed: 170.43 min.\n",
      "offset: 50000000 in 1.51 min.\n",
      "Total time ellapsed: 171.95 min.\n",
      "offset: 51000000 in 1.63 min.\n",
      "Total time ellapsed: 173.57 min.\n",
      "offset: 52000000 in 1.74 min.\n",
      "Total time ellapsed: 175.32 min.\n",
      "offset: 53000000 in 1.49 min.\n",
      "Total time ellapsed: 176.81 min.\n",
      "offset: 54000000 in 2.17 min.\n",
      "Total time ellapsed: 178.98 min.\n",
      "offset: 55000000 in 1.82 min.\n",
      "Total time ellapsed: 180.8 min.\n",
      "offset: 56000000 in 1.69 min.\n",
      "Total time ellapsed: 182.48 min.\n",
      "offset: 57000000 in 1.73 min.\n",
      "Total time ellapsed: 184.22 min.\n",
      "offset: 58000000 in 1.7 min.\n",
      "Total time ellapsed: 185.92 min.\n",
      "offset: 59000000 in 1.61 min.\n",
      "Total time ellapsed: 187.53 min.\n",
      "offset: 60000000 in 1.59 min.\n",
      "Total time ellapsed: 189.12 min.\n",
      "offset: 61000000 in 1.66 min.\n",
      "Total time ellapsed: 190.78 min.\n",
      "offset: 62000000 in 1.61 min.\n",
      "Total time ellapsed: 192.39 min.\n",
      "offset: 63000000 in 1.64 min.\n",
      "Total time ellapsed: 194.02 min.\n",
      "offset: 64000000 in 1.56 min.\n",
      "Total time ellapsed: 195.58 min.\n",
      "offset: 65000000 in 1.84 min.\n",
      "Total time ellapsed: 197.42 min.\n",
      "offset: 66000000 in 1.7 min.\n",
      "Total time ellapsed: 199.13 min.\n",
      "offset: 67000000 in 1.61 min.\n",
      "Total time ellapsed: 200.74 min.\n",
      "offset: 68000000 in 1.66 min.\n",
      "Total time ellapsed: 202.4 min.\n",
      "offset: 69000000 in 1.68 min.\n",
      "Total time ellapsed: 204.08 min.\n",
      "offset: 70000000 in 1.65 min.\n",
      "Total time ellapsed: 205.73 min.\n",
      "offset: 71000000 in 2.13 min.\n",
      "Total time ellapsed: 207.86 min.\n",
      "offset: 72000000 in 1.73 min.\n",
      "Total time ellapsed: 209.59 min.\n",
      "Exception! \n",
      "503 Server Error: Service Temporarily Unavailable\n",
      "Exception! \n",
      "503 Server Error: Service Temporarily Unavailable\n",
      "Exception! \n",
      "503 Server Error: Service Temporarily Unavailable\n",
      "Exception! \n",
      "503 Server Error: Service Temporarily Unavailable\n",
      "Exception! \n",
      "503 Server Error: Service Temporarily Unavailable\n",
      "Exception! \n",
      "503 Server Error: Service Temporarily Unavailable\n",
      "Exception! \n",
      "503 Server Error: Service Temporarily Unavailable\n",
      "Exception! \n",
      "503 Server Error: Service Temporarily Unavailable\n",
      "Exception! \n",
      "503 Server Error: Service Temporarily Unavailable\n",
      "Exception! \n",
      "503 Server Error: Service Temporarily Unavailable\n",
      "Exception! \n",
      "503 Server Error: Service Temporarily Unavailable\n",
      "Exception! \n",
      "503 Server Error: Service Temporarily Unavailable\n"
     ]
    }
   ],
   "source": [
    "# Do untile offset is greater than number of rows\n",
    "T0 = time.time()\n",
    "while True:\n",
    "    try:\n",
    "        t0 = time.time()\n",
    "        tmp = get_data(client, DATASET, offset, limit)\n",
    "        results_df = pd.DataFrame.from_records(tmp)\n",
    "        results_df.to_csv(f'{TMP_PATH}/{custom_name}_{offset}.csv', index=False)\n",
    "        t1 = time.time()\n",
    "        print(f'offset: {offset} in {time_duration(t0, t1)} min.')\n",
    "        print(f'Total time ellapsed: {time_duration(T0, t1)} min.')\n",
    "    except Exception as ex:\n",
    "        print(\"Exception! \\n{0}\".format(ex))\n",
    "\n",
    "    offset += limit\n",
    "    if offset > row_number:\n",
    "        break\n",
    "    "
   ]
  },
  {
   "cell_type": "markdown",
   "id": "numerical-programming",
   "metadata": {},
   "source": [
    "Some parts of datates were not loaded. We will not trying to load them again due to time limitations."
   ]
  },
  {
   "cell_type": "markdown",
   "id": "female-toyota",
   "metadata": {},
   "source": [
    "## Concat all data and save"
   ]
  },
  {
   "cell_type": "markdown",
   "id": "union-bicycle",
   "metadata": {},
   "source": [
    "Now we can concatenate all datasets.\n",
    "\n",
    "Due to size of a datasets we will load only 5.000 records from each file."
   ]
  },
  {
   "cell_type": "code",
   "execution_count": 26,
   "id": "technical-mouse",
   "metadata": {},
   "outputs": [],
   "source": [
    "directory = os.path.join(f'{TMP_PATH}/')"
   ]
  },
  {
   "cell_type": "code",
   "execution_count": 28,
   "id": "french-morris",
   "metadata": {},
   "outputs": [],
   "source": [
    "data = pd.DataFrame()\n",
    "for root,dirs,files in os.walk(directory):\n",
    "    for file in files:\n",
    "        tmp = pd.read_csv(root+file, nrows=5000)\n",
    "        data = pd.concat([data, tmp])"
   ]
  },
  {
   "cell_type": "code",
   "execution_count": 29,
   "id": "prompt-scenario",
   "metadata": {},
   "outputs": [],
   "source": [
    "data.reset_index(drop=True, inplace=True)"
   ]
  },
  {
   "cell_type": "code",
   "execution_count": 30,
   "id": "imposed-player",
   "metadata": {},
   "outputs": [
    {
     "data": {
      "text/html": [
       "<div>\n",
       "<style scoped>\n",
       "    .dataframe tbody tr th:only-of-type {\n",
       "        vertical-align: middle;\n",
       "    }\n",
       "\n",
       "    .dataframe tbody tr th {\n",
       "        vertical-align: top;\n",
       "    }\n",
       "\n",
       "    .dataframe thead th {\n",
       "        text-align: right;\n",
       "    }\n",
       "</style>\n",
       "<table border=\"1\" class=\"dataframe\">\n",
       "  <thead>\n",
       "    <tr style=\"text-align: right;\">\n",
       "      <th></th>\n",
       "      <th>vendorid</th>\n",
       "      <th>tpep_pickup_datetime</th>\n",
       "      <th>tpep_dropoff_datetime</th>\n",
       "      <th>passenger_count</th>\n",
       "      <th>trip_distance</th>\n",
       "      <th>ratecodeid</th>\n",
       "      <th>store_and_fwd_flag</th>\n",
       "      <th>pulocationid</th>\n",
       "      <th>dolocationid</th>\n",
       "      <th>payment_type</th>\n",
       "      <th>fare_amount</th>\n",
       "      <th>extra</th>\n",
       "      <th>mta_tax</th>\n",
       "      <th>tip_amount</th>\n",
       "      <th>tolls_amount</th>\n",
       "      <th>improvement_surcharge</th>\n",
       "      <th>total_amount</th>\n",
       "      <th>congestion_surcharge</th>\n",
       "    </tr>\n",
       "  </thead>\n",
       "  <tbody>\n",
       "    <tr>\n",
       "      <th>0</th>\n",
       "      <td>2.0</td>\n",
       "      <td>2001-01-01T00:01:48.000</td>\n",
       "      <td>2001-01-01T00:15:47.000</td>\n",
       "      <td>1.0</td>\n",
       "      <td>1.35</td>\n",
       "      <td>1.0</td>\n",
       "      <td>N</td>\n",
       "      <td>43</td>\n",
       "      <td>170</td>\n",
       "      <td>2.0</td>\n",
       "      <td>9.0</td>\n",
       "      <td>0.0</td>\n",
       "      <td>0.5</td>\n",
       "      <td>0.0</td>\n",
       "      <td>0.0</td>\n",
       "      <td>0.3</td>\n",
       "      <td>9.8</td>\n",
       "      <td>NaN</td>\n",
       "    </tr>\n",
       "    <tr>\n",
       "      <th>1</th>\n",
       "      <td>2.0</td>\n",
       "      <td>2001-01-01T00:01:48.000</td>\n",
       "      <td>2001-01-01T00:15:47.000</td>\n",
       "      <td>1.0</td>\n",
       "      <td>1.35</td>\n",
       "      <td>1.0</td>\n",
       "      <td>N</td>\n",
       "      <td>43</td>\n",
       "      <td>170</td>\n",
       "      <td>2.0</td>\n",
       "      <td>9.0</td>\n",
       "      <td>0.0</td>\n",
       "      <td>0.5</td>\n",
       "      <td>0.0</td>\n",
       "      <td>0.0</td>\n",
       "      <td>0.3</td>\n",
       "      <td>9.8</td>\n",
       "      <td>NaN</td>\n",
       "    </tr>\n",
       "    <tr>\n",
       "      <th>2</th>\n",
       "      <td>2.0</td>\n",
       "      <td>2001-01-01T00:02:26.000</td>\n",
       "      <td>2001-01-01T00:04:49.000</td>\n",
       "      <td>1.0</td>\n",
       "      <td>0.36</td>\n",
       "      <td>1.0</td>\n",
       "      <td>N</td>\n",
       "      <td>48</td>\n",
       "      <td>48</td>\n",
       "      <td>2.0</td>\n",
       "      <td>3.5</td>\n",
       "      <td>0.0</td>\n",
       "      <td>0.5</td>\n",
       "      <td>0.0</td>\n",
       "      <td>0.0</td>\n",
       "      <td>0.3</td>\n",
       "      <td>4.3</td>\n",
       "      <td>NaN</td>\n",
       "    </tr>\n",
       "    <tr>\n",
       "      <th>3</th>\n",
       "      <td>2.0</td>\n",
       "      <td>2001-01-01T00:02:26.000</td>\n",
       "      <td>2001-01-01T00:04:49.000</td>\n",
       "      <td>1.0</td>\n",
       "      <td>0.36</td>\n",
       "      <td>1.0</td>\n",
       "      <td>N</td>\n",
       "      <td>48</td>\n",
       "      <td>48</td>\n",
       "      <td>2.0</td>\n",
       "      <td>3.5</td>\n",
       "      <td>0.0</td>\n",
       "      <td>0.5</td>\n",
       "      <td>0.0</td>\n",
       "      <td>0.0</td>\n",
       "      <td>0.3</td>\n",
       "      <td>4.3</td>\n",
       "      <td>NaN</td>\n",
       "    </tr>\n",
       "    <tr>\n",
       "      <th>4</th>\n",
       "      <td>2.0</td>\n",
       "      <td>2001-01-01T00:05:12.000</td>\n",
       "      <td>2001-01-01T00:09:59.000</td>\n",
       "      <td>1.0</td>\n",
       "      <td>0.62</td>\n",
       "      <td>1.0</td>\n",
       "      <td>N</td>\n",
       "      <td>140</td>\n",
       "      <td>229</td>\n",
       "      <td>2.0</td>\n",
       "      <td>5.0</td>\n",
       "      <td>0.0</td>\n",
       "      <td>0.5</td>\n",
       "      <td>0.0</td>\n",
       "      <td>0.0</td>\n",
       "      <td>0.3</td>\n",
       "      <td>5.8</td>\n",
       "      <td>NaN</td>\n",
       "    </tr>\n",
       "  </tbody>\n",
       "</table>\n",
       "</div>"
      ],
      "text/plain": [
       "   vendorid     tpep_pickup_datetime    tpep_dropoff_datetime  \\\n",
       "0       2.0  2001-01-01T00:01:48.000  2001-01-01T00:15:47.000   \n",
       "1       2.0  2001-01-01T00:01:48.000  2001-01-01T00:15:47.000   \n",
       "2       2.0  2001-01-01T00:02:26.000  2001-01-01T00:04:49.000   \n",
       "3       2.0  2001-01-01T00:02:26.000  2001-01-01T00:04:49.000   \n",
       "4       2.0  2001-01-01T00:05:12.000  2001-01-01T00:09:59.000   \n",
       "\n",
       "   passenger_count  trip_distance  ratecodeid store_and_fwd_flag  \\\n",
       "0              1.0           1.35         1.0                  N   \n",
       "1              1.0           1.35         1.0                  N   \n",
       "2              1.0           0.36         1.0                  N   \n",
       "3              1.0           0.36         1.0                  N   \n",
       "4              1.0           0.62         1.0                  N   \n",
       "\n",
       "   pulocationid  dolocationid  payment_type  fare_amount  extra  mta_tax  \\\n",
       "0            43           170           2.0          9.0    0.0      0.5   \n",
       "1            43           170           2.0          9.0    0.0      0.5   \n",
       "2            48            48           2.0          3.5    0.0      0.5   \n",
       "3            48            48           2.0          3.5    0.0      0.5   \n",
       "4           140           229           2.0          5.0    0.0      0.5   \n",
       "\n",
       "   tip_amount  tolls_amount  improvement_surcharge  total_amount  \\\n",
       "0         0.0           0.0                    0.3           9.8   \n",
       "1         0.0           0.0                    0.3           9.8   \n",
       "2         0.0           0.0                    0.3           4.3   \n",
       "3         0.0           0.0                    0.3           4.3   \n",
       "4         0.0           0.0                    0.3           5.8   \n",
       "\n",
       "   congestion_surcharge  \n",
       "0                   NaN  \n",
       "1                   NaN  \n",
       "2                   NaN  \n",
       "3                   NaN  \n",
       "4                   NaN  "
      ]
     },
     "execution_count": 30,
     "metadata": {},
     "output_type": "execute_result"
    }
   ],
   "source": [
    "data.head()"
   ]
  },
  {
   "cell_type": "code",
   "execution_count": 31,
   "id": "several-calibration",
   "metadata": {},
   "outputs": [
    {
     "data": {
      "text/plain": [
       "920000"
      ]
     },
     "execution_count": 31,
     "metadata": {},
     "output_type": "execute_result"
    }
   ],
   "source": [
    "len(data)"
   ]
  },
  {
   "cell_type": "code",
   "execution_count": 33,
   "id": "raising-mexican",
   "metadata": {},
   "outputs": [],
   "source": [
    "data.to_csv(f'{PATH}/yelllow_taxi_data.csv', index=False)"
   ]
  },
  {
   "cell_type": "code",
   "execution_count": 34,
   "id": "careful-highlight",
   "metadata": {},
   "outputs": [],
   "source": [
    "# client stop\n",
    "client.close()"
   ]
  }
 ],
 "metadata": {
  "kernelspec": {
   "display_name": "yellow_taxi",
   "language": "python",
   "name": "yellow_taxi"
  },
  "language_info": {
   "codemirror_mode": {
    "name": "ipython",
    "version": 3
   },
   "file_extension": ".py",
   "mimetype": "text/x-python",
   "name": "python",
   "nbconvert_exporter": "python",
   "pygments_lexer": "ipython3",
   "version": "3.8.5"
  }
 },
 "nbformat": 4,
 "nbformat_minor": 5
}
